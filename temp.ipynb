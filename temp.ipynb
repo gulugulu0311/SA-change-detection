{
 "cells": [
  {
   "cell_type": "code",
   "execution_count": 2,
   "metadata": {},
   "outputs": [],
   "source": [
    "import numpy as np\n",
    "\n",
    "from config import Configs\n",
    "from models.TSSCD import TSSCD_FCN, TSSCD_Unet\n",
    "from utils import *\n",
    "from data_loader import load_data"
   ]
  },
  {
   "cell_type": "code",
   "execution_count": 2,
   "metadata": {},
   "outputs": [],
   "source": [
    "npz_file = np.load(os.path.join(f'.\\\\TimeSeriesImages\\\\SA_blocks_clipped&mosaic\\\\ZJ_data4cls', f'block_5755.npz'))['data']"
   ]
  },
  {
   "cell_type": "code",
   "execution_count": 3,
   "metadata": {},
   "outputs": [
    {
     "name": "stdout",
     "output_type": "stream",
     "text": [
      "Uisng cuda device\n"
     ]
    },
    {
     "data": {
      "text/plain": [
       "TSSCD_Unet(\n",
       "  (layer1): Sequential(\n",
       "    (0): Conv1d(12, 128, kernel_size=(3,), stride=(1,), padding=(1,))\n",
       "    (1): ReLU(inplace=True)\n",
       "    (2): Conv1d(128, 128, kernel_size=(3,), stride=(1,), padding=(1,))\n",
       "    (3): ReLU(inplace=True)\n",
       "  )\n",
       "  (layer2): Sequential(\n",
       "    (0): MaxPool1d(kernel_size=2, stride=2, padding=0, dilation=1, ceil_mode=True)\n",
       "    (1): Conv1d(128, 256, kernel_size=(3,), stride=(1,), padding=(1,))\n",
       "    (2): ReLU(inplace=True)\n",
       "    (3): Conv1d(256, 256, kernel_size=(3,), stride=(1,), padding=(1,))\n",
       "    (4): ReLU(inplace=True)\n",
       "  )\n",
       "  (layer3): Sequential(\n",
       "    (0): MaxPool1d(kernel_size=2, stride=2, padding=0, dilation=1, ceil_mode=True)\n",
       "    (1): Conv1d(256, 512, kernel_size=(3,), stride=(1,), padding=(1,))\n",
       "    (2): ReLU(inplace=True)\n",
       "    (3): Conv1d(512, 512, kernel_size=(3,), stride=(1,), padding=(1,))\n",
       "    (4): ReLU(inplace=True)\n",
       "  )\n",
       "  (layer4): Sequential(\n",
       "    (0): MaxPool1d(kernel_size=2, stride=2, padding=0, dilation=1, ceil_mode=True)\n",
       "    (1): Conv1d(512, 1024, kernel_size=(3,), stride=(1,), padding=(1,))\n",
       "    (2): ReLU(inplace=True)\n",
       "    (3): Conv1d(1024, 1024, kernel_size=(3,), stride=(1,), padding=(1,))\n",
       "    (4): ReLU(inplace=True)\n",
       "  )\n",
       "  (layer5): Sequential(\n",
       "    (0): MaxPool1d(kernel_size=2, stride=2, padding=0, dilation=1, ceil_mode=True)\n",
       "    (1): Conv1d(1024, 4096, kernel_size=(3,), stride=(1,), padding=(1,))\n",
       "    (2): ReLU(inplace=True)\n",
       "    (3): Conv1d(4096, 4096, kernel_size=(1,), stride=(1,))\n",
       "    (4): ReLU(inplace=True)\n",
       "    (5): ConvTranspose1d(4096, 1024, kernel_size=(4,), stride=(2,), padding=(1,), bias=False)\n",
       "  )\n",
       "  (upconv_layer4): Sequential(\n",
       "    (0): Conv1d(2048, 1024, kernel_size=(3,), stride=(1,), padding=(1,))\n",
       "    (1): ReLU(inplace=True)\n",
       "    (2): Conv1d(1024, 1024, kernel_size=(3,), stride=(1,), padding=(1,))\n",
       "    (3): ReLU(inplace=True)\n",
       "    (4): ConvTranspose1d(1024, 512, kernel_size=(4,), stride=(2,), padding=(1,), bias=False)\n",
       "  )\n",
       "  (upconv_layer3): Sequential(\n",
       "    (0): Conv1d(1024, 512, kernel_size=(3,), stride=(1,), padding=(1,))\n",
       "    (1): ReLU(inplace=True)\n",
       "    (2): Conv1d(512, 512, kernel_size=(3,), stride=(1,), padding=(1,))\n",
       "    (3): ReLU(inplace=True)\n",
       "    (4): ConvTranspose1d(512, 256, kernel_size=(4,), stride=(2,), padding=(1,), bias=False)\n",
       "  )\n",
       "  (upconv_layer2): Sequential(\n",
       "    (0): Conv1d(512, 256, kernel_size=(3,), stride=(1,), padding=(1,))\n",
       "    (1): ReLU(inplace=True)\n",
       "    (2): Conv1d(256, 256, kernel_size=(3,), stride=(1,), padding=(1,))\n",
       "    (3): ReLU(inplace=True)\n",
       "    (4): ConvTranspose1d(256, 128, kernel_size=(4,), stride=(2,), padding=(1,), bias=False)\n",
       "  )\n",
       "  (upconv_layer1): Sequential(\n",
       "    (0): Conv1d(256, 128, kernel_size=(3,), stride=(1,), padding=(1,))\n",
       "    (1): ReLU(inplace=True)\n",
       "    (2): Conv1d(128, 128, kernel_size=(3,), stride=(1,), padding=(1,))\n",
       "    (3): ReLU(inplace=True)\n",
       "    (4): Conv1d(128, 4, kernel_size=(1,), stride=(1,))\n",
       "  )\n",
       ")"
      ]
     },
     "execution_count": 3,
     "metadata": {},
     "output_type": "execute_result"
    }
   ],
   "source": [
    "device = device_on()\n",
    "configs = Configs()\n",
    "model = TSSCD_Unet(configs.input_channels, configs.classes, configs.model_hidden)\n",
    "model = model.to(device)\n",
    "model_state_dict = torch.load(os.path.join('model_data\\\\TSSCD_Unet', '6.pth'), map_location='cuda', weights_only=True)\n",
    "model.load_state_dict(model_state_dict)\n",
    "model.eval()"
   ]
  },
  {
   "cell_type": "code",
   "execution_count": 4,
   "metadata": {},
   "outputs": [
    {
     "name": "stdout",
     "output_type": "stream",
     "text": [
      "(748, 13, 60)\n",
      "[0. 0. 0. 0. 0. 0. 0. 0. 0. 0. 0. 0. 0. 0. 0. 0. 0. 0. 0. 0. 0. 0. 0. 0.\n",
      " 0. 0. 0. 0. 0. 0. 0. 0. 0. 0. 0. 0. 0. 1. 1. 1. 1. 1. 1. 1. 1. 1. 1. 1.\n",
      " 1. 1. 1. 1. 1. 1. 1. 1. 1. 1. 1. 1.]\n"
     ]
    }
   ],
   "source": [
    "valid_data = np.load('./dataset/test.npy')\n",
    "print(valid_data.shape) # counts, channel, seq_length\n",
    "print(valid_data[114, -1, :])"
   ]
  },
  {
   "cell_type": "code",
   "execution_count": 5,
   "metadata": {},
   "outputs": [
    {
     "name": "stdout",
     "output_type": "stream",
     "text": [
      "(748, 12, 60)\n"
     ]
    }
   ],
   "source": [
    "valid_data[:, :-1, :] = minMax_standardization(valid_data[:, :-1, :])\n",
    "print(valid_data[:, :-1, :].shape)"
   ]
  },
  {
   "cell_type": "code",
   "execution_count": null,
   "metadata": {},
   "outputs": [
    {
     "name": "stdout",
     "output_type": "stream",
     "text": [
      "[1 1 1 1 1 1 1 1 1 1 1 1 0 0 0 0 0 0 0 0 0 0 0 0 0 0 0 1 1 1 1 1 1 0 0 0 0\n",
      " 1 1 1 1 1 1 1 1 1 1 1 1 1 1 1 1 1 1 1 1 1 1 1]\n",
      "[1 1 1 1 1 1 1 1 1 1 1 1 0 0 0 0 0 0 0 0 0 0 0 0 0 0 0 1 1 1 1 1 1 1 0 0 0\n",
      " 1 1 1 1 1 1 1 1 1 1 1 1 1 1 1 1 1 1 1 1 1 1 1]\n"
     ]
    }
   ],
   "source": [
    "samp_idx = 552\n",
    "# samp_idx = 227\n",
    "model_input = torch.Tensor(valid_data[samp_idx:samp_idx+1, :-1, :]).to(device)\n",
    "\n",
    "label = valid_data[samp_idx:samp_idx+1, -1, :].astype(int)\n",
    "pres = torch.argmax(input=model(model_input), dim=1).cpu().numpy()\n",
    "\n",
    "print(pres[0], label[0], sep='\\n')\n",
    "# ???"
   ]
  },
  {
   "cell_type": "code",
   "execution_count": 7,
   "metadata": {},
   "outputs": [
    {
     "name": "stdout",
     "output_type": "stream",
     "text": [
      "org pre: [11 26 32 36]\n",
      "better_pre: [11 26 33 36]\n",
      "label: [11 26 33 36]\n",
      "hot_pre: [0. 0. 0. 0. 0. 0. 0. 0. 0. 0. 0. 1. 0. 0. 0. 0. 0. 0. 0. 0. 0. 0. 0. 0.\n",
      " 0. 0. 1. 0. 0. 0. 0. 0. 0. 1. 0. 0. 1. 0. 0. 0. 0. 0. 0. 0. 0. 0. 0. 0.\n",
      " 0. 0. 0. 0. 0. 0. 0. 0. 0. 0. 0. 0.]\n",
      "hot_label: [0. 0. 0. 0. 0. 0. 0. 0. 0. 0. 0. 1. 0. 0. 0. 0. 0. 0. 0. 0. 0. 0. 0. 0.\n",
      " 0. 0. 1. 0. 0. 0. 0. 0. 0. 1. 0. 0. 1. 0. 0. 0. 0. 0. 0. 0. 0. 0. 0. 0.\n",
      " 0. 0. 0. 0. 0. 0. 0. 0. 0. 0. 0. 0.]\n",
      "Lcc accuracy: 1.0\n",
      "label change points\t: [11 26 33 36]\n",
      "predicted change points\t: [11 26 33 36]\n",
      "PreChange_LabChange: 4.0000001192092896\n",
      "PreNoChange_LabChange: 1.1920928955078125e-07\n",
      "PreChange_LabNoChange: 1.1920928955078125e-07\n",
      "PreNoChange_LabNoChange: 56.00000011920929\n"
     ]
    }
   ],
   "source": [
    "labels = valid_data[samp_idx:samp_idx+1, -1, :].astype(int)\n",
    "pres = torch.argmax(input=model(model_input), dim=1).cpu().numpy()\n",
    "\n",
    "from metrics import Evaluator, SpatialChangeDetectScore, TemporalChangeDetectScore\n",
    "spatialscore = SpatialChangeDetectScore()\n",
    "temporalscore = TemporalChangeDetectScore(series_length=60, error_rate=1)\n",
    "\n",
    "for pre, label in zip(pres, labels):\n",
    "    pre, label = pre[None, :], label[None, :]\n",
    "    predata, prechangepoints, pretypes = FilteringSeries(pre, method='Majority', window_size=5)\n",
    "    labdata, labchangepoints, labtypes = FilteringSeries(label)\n",
    "    \n",
    "    spatialscore.addValue(labchangepoints[0], prechangepoints[0])\n",
    "    temporalscore.addValue(labchangepoints[0], prechangepoints[0])\n",
    "    spatialscore.addLccValue(pretypes[0], labtypes[0])\n",
    "    \n",
    "    print(f'Lcc accuracy: {spatialscore.getLccScore()}')\n",
    "    print(f'label change points\\t: {labchangepoints[0]}', f'predicted change points\\t: {prechangepoints[0]}', sep='\\n')\n",
    "    print(f'PreChange_LabChange: {temporalscore.PreChange_LabChange}',\n",
    "          f'PreNoChange_LabChange: {temporalscore.PreNoChange_LabChange}',\n",
    "          f'PreChange_LabNoChange: {temporalscore.PreChange_LabNoChange}', \n",
    "          f'PreNoChange_LabNoChange: {temporalscore.PreNoChange_LabNoChange}',\n",
    "          sep='\\n')"
   ]
  },
  {
   "cell_type": "code",
   "execution_count": 3,
   "metadata": {},
   "outputs": [
    {
     "name": "stdout",
     "output_type": "stream",
     "text": [
      "原始矩阵维度: (5, 5, 3)\n",
      "\n",
      "时间维度1（滤波前）:\n",
      "[[2 1 3 3 4]\n",
      " [5 7 4 5 7]\n",
      " [0 2 1 2 6]\n",
      " [8 6 9 5 0]\n",
      " [5 8 3 8 9]]\n"
     ]
    },
    {
     "ename": "RuntimeError",
     "evalue": "boundary mode not supported",
     "output_type": "error",
     "traceback": [
      "\u001b[1;31m---------------------------------------------------------------------------\u001b[0m",
      "\u001b[1;31mRuntimeError\u001b[0m                              Traceback (most recent call last)",
      "Cell \u001b[1;32mIn[3], line 15\u001b[0m\n\u001b[0;32m      8\u001b[0m \u001b[38;5;28mprint\u001b[39m(test_matrix[:, :, \u001b[38;5;241m0\u001b[39m])\n\u001b[0;32m      9\u001b[0m \u001b[38;5;66;03m# print(\"\\n时间维度2（滤波前）:\")\u001b[39;00m\n\u001b[0;32m     10\u001b[0m \u001b[38;5;66;03m# print(test_matrix[:, :, 1])\u001b[39;00m\n\u001b[0;32m     11\u001b[0m \u001b[38;5;66;03m# print(\"\\n时间维度3（滤波前）:\")\u001b[39;00m\n\u001b[0;32m     12\u001b[0m \u001b[38;5;66;03m# print(test_matrix[:, :, 2])\u001b[39;00m\n\u001b[0;32m     13\u001b[0m \n\u001b[0;32m     14\u001b[0m \u001b[38;5;66;03m# 应用3x3空间众数滤波\u001b[39;00m\n\u001b[1;32m---> 15\u001b[0m filtered \u001b[38;5;241m=\u001b[39m \u001b[43mspatial_mode_filter\u001b[49m\u001b[43m(\u001b[49m\u001b[43mtest_matrix\u001b[49m\u001b[43m,\u001b[49m\u001b[43m \u001b[49m\u001b[43mkernel_size\u001b[49m\u001b[38;5;241;43m=\u001b[39;49m\u001b[38;5;241;43m3\u001b[39;49m\u001b[43m)\u001b[49m\n\u001b[0;32m     17\u001b[0m \u001b[38;5;28mprint\u001b[39m(\u001b[38;5;124m\"\u001b[39m\u001b[38;5;130;01m\\n\u001b[39;00m\u001b[38;5;124m滤波后结果:\u001b[39m\u001b[38;5;124m\"\u001b[39m)\n\u001b[0;32m     18\u001b[0m \u001b[38;5;28mprint\u001b[39m(\u001b[38;5;124m\"\u001b[39m\u001b[38;5;124m时间维度1（高频噪声滤波）:\u001b[39m\u001b[38;5;124m\"\u001b[39m)\n",
      "File \u001b[1;32mf:\\qwc\\TSSCD\\utils.py:88\u001b[0m, in \u001b[0;36mspatial_mode_filter\u001b[1;34m(preds, kernel_size)\u001b[0m\n\u001b[0;32m     87\u001b[0m \u001b[38;5;28;01mdef\u001b[39;00m \u001b[38;5;21mspatial_mode_filter\u001b[39m(preds, kernel_size\u001b[38;5;241m=\u001b[39m\u001b[38;5;241m3\u001b[39m):\n\u001b[1;32m---> 88\u001b[0m     \u001b[38;5;28;01mreturn\u001b[39;00m \u001b[43mgeneric_filter\u001b[49m\u001b[43m(\u001b[49m\u001b[43mpreds\u001b[49m\u001b[43m,\u001b[49m\u001b[43m \u001b[49m\u001b[38;5;28;43;01mlambda\u001b[39;49;00m\u001b[43m \u001b[49m\u001b[43mx\u001b[49m\u001b[43m:\u001b[49m\u001b[43m \u001b[49m\u001b[43mmode\u001b[49m\u001b[43m(\u001b[49m\u001b[43mx\u001b[49m\u001b[43m)\u001b[49m\u001b[38;5;241;43m.\u001b[39;49m\u001b[43mmode\u001b[49m\u001b[43m,\u001b[49m\u001b[43m \u001b[49m\n\u001b[0;32m     89\u001b[0m \u001b[43m                        \u001b[49m\u001b[43msize\u001b[49m\u001b[38;5;241;43m=\u001b[39;49m\u001b[43m(\u001b[49m\u001b[43mkernel_size\u001b[49m\u001b[43m,\u001b[49m\u001b[43m \u001b[49m\u001b[43mkernel_size\u001b[49m\u001b[43m,\u001b[49m\u001b[43m \u001b[49m\u001b[38;5;241;43m1\u001b[39;49m\u001b[43m)\u001b[49m\u001b[43m,\u001b[49m\n\u001b[0;32m     90\u001b[0m \u001b[43m                        \u001b[49m\u001b[43mmode\u001b[49m\u001b[38;5;241;43m=\u001b[39;49m\u001b[38;5;124;43m'\u001b[39;49m\u001b[38;5;124;43msymmetric\u001b[39;49m\u001b[38;5;124;43m'\u001b[39;49m\u001b[43m)\u001b[49m\n",
      "File \u001b[1;32mc:\\Users\\Dell\\miniconda3\\envs\\qwc\\Lib\\site-packages\\scipy\\ndimage\\_filters.py:1855\u001b[0m, in \u001b[0;36mgeneric_filter\u001b[1;34m(input, function, size, footprint, output, mode, cval, origin, extra_arguments, extra_keywords)\u001b[0m\n\u001b[0;32m   1853\u001b[0m     footprint \u001b[38;5;241m=\u001b[39m footprint\u001b[38;5;241m.\u001b[39mcopy()\n\u001b[0;32m   1854\u001b[0m output \u001b[38;5;241m=\u001b[39m _ni_support\u001b[38;5;241m.\u001b[39m_get_output(output, \u001b[38;5;28minput\u001b[39m)\n\u001b[1;32m-> 1855\u001b[0m mode \u001b[38;5;241m=\u001b[39m \u001b[43m_ni_support\u001b[49m\u001b[38;5;241;43m.\u001b[39;49m\u001b[43m_extend_mode_to_code\u001b[49m\u001b[43m(\u001b[49m\u001b[43mmode\u001b[49m\u001b[43m)\u001b[49m\n\u001b[0;32m   1856\u001b[0m _nd_image\u001b[38;5;241m.\u001b[39mgeneric_filter(\u001b[38;5;28minput\u001b[39m, function, footprint, output, mode,\n\u001b[0;32m   1857\u001b[0m                          cval, origins, extra_arguments, extra_keywords)\n\u001b[0;32m   1858\u001b[0m \u001b[38;5;28;01mreturn\u001b[39;00m output\n",
      "File \u001b[1;32mc:\\Users\\Dell\\miniconda3\\envs\\qwc\\Lib\\site-packages\\scipy\\ndimage\\_ni_support.py:55\u001b[0m, in \u001b[0;36m_extend_mode_to_code\u001b[1;34m(mode)\u001b[0m\n\u001b[0;32m     53\u001b[0m     \u001b[38;5;28;01mreturn\u001b[39;00m \u001b[38;5;241m6\u001b[39m\n\u001b[0;32m     54\u001b[0m \u001b[38;5;28;01melse\u001b[39;00m:\n\u001b[1;32m---> 55\u001b[0m     \u001b[38;5;28;01mraise\u001b[39;00m \u001b[38;5;167;01mRuntimeError\u001b[39;00m(\u001b[38;5;124m'\u001b[39m\u001b[38;5;124mboundary mode not supported\u001b[39m\u001b[38;5;124m'\u001b[39m)\n",
      "\u001b[1;31mRuntimeError\u001b[0m: boundary mode not supported"
     ]
    }
   ],
   "source": [
    "import numpy as np\n",
    "from utils import spatial_mode_filter\n",
    "\n",
    "test_matrix = np.random.randint(0, 10, (5,5,3))  # 直接生成5x5x3矩阵\n",
    "\n",
    "print(\"原始矩阵维度:\", test_matrix.shape)\n",
    "print(\"\\n时间维度1（滤波前）:\")\n",
    "print(test_matrix[:, :, 0])\n",
    "# print(\"\\n时间维度2（滤波前）:\")\n",
    "# print(test_matrix[:, :, 1])\n",
    "# print(\"\\n时间维度3（滤波前）:\")\n",
    "# print(test_matrix[:, :, 2])\n",
    "\n",
    "# 应用3x3空间众数滤波\n",
    "filtered = spatial_mode_filter(test_matrix, kernel_size=3)\n",
    "\n",
    "print(\"\\n滤波后结果:\")\n",
    "print(\"时间维度1（高频噪声滤波）:\")\n",
    "print(filtered[:, :, 0])\n",
    "# print(\"\\n时间维度2（中心模式保持）:\")\n",
    "# print(filtered[:, :, 1])\n",
    "# print(\"\\n时间维度3（边界填充测试）:\")\n",
    "# print(filtered[:, :, 2])"
   ]
  }
 ],
 "metadata": {
  "kernelspec": {
   "display_name": "qwc",
   "language": "python",
   "name": "python3"
  },
  "language_info": {
   "codemirror_mode": {
    "name": "ipython",
    "version": 3
   },
   "file_extension": ".py",
   "mimetype": "text/x-python",
   "name": "python",
   "nbconvert_exporter": "python",
   "pygments_lexer": "ipython3",
   "version": "3.12.3"
  }
 },
 "nbformat": 4,
 "nbformat_minor": 2
}
